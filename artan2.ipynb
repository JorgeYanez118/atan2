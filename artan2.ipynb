{
 "cells": [
  {
   "cell_type": "markdown",
   "metadata": {},
   "source": [
    "# Fucnion atan2"
   ]
  },
  {
   "cell_type": "markdown",
   "metadata": {},
   "source": [
    "Nombre: Jorge Yanez \n",
    "\n",
    "Fecha: 17/12/2024"
   ]
  },
  {
   "cell_type": "markdown",
   "metadata": {},
   "source": [
    "### Descripcion\n",
    "\n",
    "La funcion atan2 devuelve el valor de arcotangente, de las coordenadas **X** e **Y**. El arco tangente es el ángulo medido desde el eje X hasta la línea que contiene el origen (0; 0) y el punto con las coordenadas (coord_x; coord_y). El valor del ángulo se expresa en radianes entre -pi y pi, excluyendo -pi.\n",
    "\n",
    "\n",
    "\n",
    "### Sintaxis\n",
    "ATAN2(coord_x; coord_y)\n",
    "\n",
    "La sintaxis de la función ATAN2 tiene los siguientes argumentos:\n",
    "\n",
    "- Coord_x    Obligatorio. La coordenada X del punto.\n",
    "- Coord_y    Obligatorio. La coordenada Y del punto.\n",
    "\n",
    "### Caracteristicas principales\n",
    "- Parametros\n",
    "    - y: Coordenada en el eje vertical (ordenada).\n",
    "    - x: Coordenada en el eje horizontal (abscisa).\n",
    "- Valor de retorno \n",
    "    - El ángulo en radianes, en el intervalo −π a π, correspondiente al punto (x,y) en el plano cartesiano.\n",
    "    - El angulo esta medido en el eje x positivo\n",
    "- Determinacion del cuadrante \n",
    "    atan2 considera el signo de ***x*** y ***y***, lo que permite identificar al cuadrnate exacto del angulo:\n",
    "    - ***Si x > 0:*** el angulo estara en el primer o cuarto cuadrante. \n",
    "    - ***Si x < 0:*** el angulo estara en el segundo o tercer cuadrante.\n",
    "    - ***Si x = 0:*** el angulo depende del valor de y.\n",
    "        - ***Si y > 0:*** π/2.\n",
    "        - ***Si y < 0:*** -π/2.\n",
    "        - ***Si y = 0:*** el angulo es 0.\n",
    "\n",
    "### Notas\n",
    "- Un resultado positivo representa un ángulo formado en sentido opuesto a las agujas del reloj a partir del eje X; un resultado negativo representa un ángulo formado en el sentido de las agujas del reloj.\n",
    "\n",
    "- ATAN2(a;b) es igual a ATAN(b/a), con la excepción de que \"a\" puede ser igual a 0 en ATAN2.\n",
    "\n",
    "- Si coord_x y coord_y son 0, ATAN2 devuelve el valor de error #¡DIV/0!.\n",
    "\n",
    "- Para expresar el arco tangente en grados, multiplique el resultado por 180/PI( ) o use la función GRADOS.\n",
    "\n",
    "### ¿Por que es recomdable usar la funcion atan2?\n",
    "\n",
    "La función atan2(y, x) se recomienda en lugar de atan(y/x) debido a sus múltiples ventajas, entre las que estan el manejo correcto de los cuadrantes, evitar las divisiones por 0 los rangos completos de −π a 𝜋\n"
   ]
  },
  {
   "cell_type": "markdown",
   "metadata": {},
   "source": [
    "### Diferencias entre atan y atan2\n",
    "\n",
    "| **Característica**             | **atan**                            | **atan2**                          |\n",
    "|--------------------------------|---------------------------------------|--------------------------------------|\n",
    "| **Parámetros**                 | Recibe un solo valor \\( y/x \\).       | Recibe dos valores: \\( y \\) y \\( x \\). |\n",
    "| **Rango de salida**            | \\(-$\\pi$/2\\) a \\($\\pi$/2\\)               | \\(-$\\pi$\\) a \\($\\pi$\\)                   |\n",
    "| **Detección de cuadrantes**    | No detecta cuadrantes.               | Detecta los cuatro cuadrantes.       |\n",
    "| **División por cero**          | Falla si \\( x = 0 \\).                | Maneja correctamente \\( x = 0 \\).    |\n",
    "| **Aplicaciones**               | Cálculos simples de tangente inversa.| Cálculos precisos de ángulos en planos cartesianos. |\n"
   ]
  },
  {
   "cell_type": "markdown",
   "metadata": {},
   "source": [
    "## Ejemplos"
   ]
  },
  {
   "cell_type": "markdown",
   "metadata": {},
   "source": [
    "### 1. Calcular el ángulo en coordenadas cartesianas"
   ]
  },
  {
   "cell_type": "code",
   "execution_count": 3,
   "metadata": {},
   "outputs": [
    {
     "name": "stdout",
     "output_type": "stream",
     "text": [
      "Ángulo en radianes: 0.93\n",
      "Ángulo en grados: 53.13\n"
     ]
    }
   ],
   "source": [
    "import math\n",
    "\n",
    "x = 3\n",
    "y = 4\n",
    "\n",
    "# Calcular el ángulo\n",
    "angle = math.atan2(y, x)\n",
    "\n",
    "# Convertir el ángulo a grados\n",
    "angle_degrees = math.degrees(angle)\n",
    "print(f\"Ángulo en radianes: {angle:.2f}\")\n",
    "print(f\"Ángulo en grados: {angle_degrees:.2f}\")\n",
    "\n"
   ]
  },
  {
   "cell_type": "markdown",
   "metadata": {},
   "source": [
    "### 2. Determinar el ángulo de un punto en el segundo cuadrante"
   ]
  },
  {
   "cell_type": "code",
   "execution_count": 2,
   "metadata": {},
   "outputs": [
    {
     "name": "stdout",
     "output_type": "stream",
     "text": [
      "Ángulo en radianes: 2.27\n",
      "Ángulo en grados: 129.81\n"
     ]
    }
   ],
   "source": [
    "import math\n",
    "\n",
    "x = -5\n",
    "y = 6\n",
    "\n",
    "# Calcular el ángulo\n",
    "angle = math.atan2(y, x)\n",
    "\n",
    "# Convertir a grados\n",
    "angle_degrees = math.degrees(angle)\n",
    "print(f\"Ángulo en radianes: {angle:.2f}\")\n",
    "print(f\"Ángulo en grados: {angle_degrees:.2f}\")\n"
   ]
  },
  {
   "cell_type": "markdown",
   "metadata": {},
   "source": [
    "### 3. Calcular el ángulo de un punto en el tercer cuadrante"
   ]
  },
  {
   "cell_type": "code",
   "execution_count": 4,
   "metadata": {},
   "outputs": [
    {
     "name": "stdout",
     "output_type": "stream",
     "text": [
      "Ángulo en radianes: -2.21\n",
      "Ángulo en grados: -126.87\n"
     ]
    }
   ],
   "source": [
    "import math\n",
    "\n",
    "x = -3\n",
    "y = -4\n",
    "\n",
    "# Calcular el ángulo\n",
    "angle = math.atan2(y, x)\n",
    "\n",
    "# Convertir a grados\n",
    "angle_degrees = math.degrees(angle)\n",
    "print(f\"Ángulo en radianes: {angle:.2f}\")\n",
    "print(f\"Ángulo en grados: {angle_degrees:.2f}\")\n"
   ]
  },
  {
   "cell_type": "markdown",
   "metadata": {},
   "source": [
    "### 4. Determinar el ángulo de un punto sobre el eje Y"
   ]
  },
  {
   "cell_type": "code",
   "execution_count": 5,
   "metadata": {},
   "outputs": [
    {
     "name": "stdout",
     "output_type": "stream",
     "text": [
      "Ángulo en radianes: 1.57\n",
      "Ángulo en grados: 90.00\n"
     ]
    }
   ],
   "source": [
    "import math\n",
    "\n",
    "x = 0\n",
    "y = 10\n",
    "\n",
    "# Calcular el ángulo\n",
    "angle = math.atan2(y, x)\n",
    "\n",
    "# Convertir a grados\n",
    "angle_degrees = math.degrees(angle)\n",
    "print(f\"Ángulo en radianes: {angle:.2f}\")\n",
    "print(f\"Ángulo en grados: {angle_degrees:.2f}\")\n"
   ]
  },
  {
   "cell_type": "markdown",
   "metadata": {},
   "source": [
    "### 5. Manejo del caso donde 𝑥=0 y 𝑦=−10"
   ]
  },
  {
   "cell_type": "code",
   "execution_count": 6,
   "metadata": {},
   "outputs": [
    {
     "name": "stdout",
     "output_type": "stream",
     "text": [
      "Ángulo en radianes: -1.57\n",
      "Ángulo en grados: -90.00\n"
     ]
    }
   ],
   "source": [
    "import math\n",
    "\n",
    "x = 0\n",
    "y = -10\n",
    "\n",
    "# Calcular el ángulo\n",
    "angle = math.atan2(y, x)\n",
    "\n",
    "# Convertir a grados\n",
    "angle_degrees = math.degrees(angle)\n",
    "print(f\"Ángulo en radianes: {angle:.2f}\")\n",
    "print(f\"Ángulo en grados: {angle_degrees:.2f}\")\n"
   ]
  }
 ],
 "metadata": {
  "kernelspec": {
   "display_name": "Python 3",
   "language": "python",
   "name": "python3"
  },
  "language_info": {
   "codemirror_mode": {
    "name": "ipython",
    "version": 3
   },
   "file_extension": ".py",
   "mimetype": "text/x-python",
   "name": "python",
   "nbconvert_exporter": "python",
   "pygments_lexer": "ipython3",
   "version": "3.11.5"
  }
 },
 "nbformat": 4,
 "nbformat_minor": 2
}
